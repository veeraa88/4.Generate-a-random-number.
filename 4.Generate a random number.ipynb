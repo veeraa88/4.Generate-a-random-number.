{
 "cells": [
  {
   "cell_type": "code",
   "execution_count": null,
   "id": "98a1f964-54e5-4e1f-b643-04e59ca2a9e9",
   "metadata": {},
   "outputs": [],
   "source": [
    "## 4.Write a Python program to generate a random number"
   ]
  },
  {
   "cell_type": "code",
   "execution_count": 25,
   "id": "a30a9cc0-03fb-44a8-84b3-a18db77a2263",
   "metadata": {},
   "outputs": [
    {
     "name": "stdout",
     "output_type": "stream",
     "text": [
      "Random number: 26\n"
     ]
    }
   ],
   "source": [
    "import random\n",
    "print(f\"Random number: {random.randrange(1,200)}\")"
   ]
  },
  {
   "cell_type": "code",
   "execution_count": null,
   "id": "e46cc450-bb84-4409-ac23-fc432edcd3de",
   "metadata": {},
   "outputs": [],
   "source": []
  },
  {
   "cell_type": "code",
   "execution_count": null,
   "id": "089768c8-fac8-466e-9f5e-a760a69ecbe2",
   "metadata": {},
   "outputs": [],
   "source": []
  }
 ],
 "metadata": {
  "kernelspec": {
   "display_name": "Python [conda env:base] *",
   "language": "python",
   "name": "conda-base-py"
  },
  "language_info": {
   "codemirror_mode": {
    "name": "ipython",
    "version": 3
   },
   "file_extension": ".py",
   "mimetype": "text/x-python",
   "name": "python",
   "nbconvert_exporter": "python",
   "pygments_lexer": "ipython3",
   "version": "3.12.7"
  }
 },
 "nbformat": 4,
 "nbformat_minor": 5
}
